{
    "cells": [
     {
      "cell_type": "markdown",
      "metadata": {},
      "source": [
       "# IndyCar Lap Time Analysis\n",
       "\n",
       "This notebook analyzes and visualizes lap time data for three IndyCar drivers:\n",
       "- Pato O'Ward (Car #5)\n",
       "- Alexander Rossi (Car #7)\n",
       "- Alex Palou (Car #10)"
      ]
     },
     {
      "cell_type": "code",
      "execution_count": null,
      "metadata": {},
      "source": [
       "# Import necessary libraries\n",
       "import pandas as pd\n",
       "import numpy as np\n",
       "import matplotlib.pyplot as plt\n",
       "import seaborn as sns\n",
       "\n",
       "# Set plot styles\n",
       "plt.style.use('ggplot')\n",
       "sns.set_context(\"notebook\", font_scale=1.2)\n",
       "\n",
       "# Enable inline plotting\n",
       "%matplotlib inline"
      ]
     },
     {
      "cell_type": "markdown",
      "metadata": {},
      "source": [
       "## Loading the Data"
      ]
     },
     {
      "cell_type": "code",
      "execution_count": null,
      "metadata": {},
      "source": [
       "# Load the lap time data\n",
       "df = pd.read_csv('indycar-lap-times.csv')\n",
       "\n",
       "# Display basic information\n",
       "print(f\"Total lap times recorded: {len(df)}\")\n",
       "print(\"\\nCounts by driver:\")\n",
       "print(df['Driver'].value_counts())\n",
       "\n",
       "# Display the first few rows\n",
       "df.head()"
      ]
     },
     {
      "cell_type": "markdown",
      "metadata": {},
      "source": [
       "## Data Preprocessing"
      ]
     },
     {
      "cell_type": "code",
      "execution_count": null,
      "metadata": {},
      "source": [
       "# Convert the Time column to float if it's not already\n",
       "df['T (Time)'] = df['T (Time)'].astype(float)\n",
       "\n",
       "# Create a more readable driver column for plotting\n",
       "df['DriverName'] = df['Driver'].apply(lambda x: x.split(',')[0])\n",
       "\n",
       "# Calculate some basic statistics\n",
       "stats = df.groupby('DriverName')['T (Time)'].agg(['mean', 'std', 'min', 'max', 'count'])\n",
       "stats.columns = ['Average Time', 'Std Dev', 'Fastest Lap', 'Slowest Lap', 'Lap Count']\n",
       "stats"
      ]
     },
     {
      "cell_type": "markdown",
      "metadata": {},
      "source": [
       "## Visualization: Lap Times Throughout the Race"
      ]
     },
     {
      "cell_type": "code",
      "execution_count": null,
      "metadata": {},
      "source": [
       "plt.figure(figsize=(14, 8))\n",
       "\n",
       "# Create a scatter plot for each driver\n",
       "for driver, color in zip(['O\\'Ward', 'Rossi', 'Palou'], ['blue', 'red', 'green']):\n",
       "    driver_data = df[df['DriverName'] == driver]\n",
       "    plt.plot(driver_data['Lap'], driver_data['T (Time)'], 'o-', label=driver, alpha=0.7, linewidth=1, markersize=5)\n",
       "\n",
       "plt.title('Lap Times Throughout the Race', fontsize=16)\n",
       "plt.xlabel('Lap Number', fontsize=14)\n",
       "plt.ylabel('Lap Time (seconds)', fontsize=14)\n",
       "plt.legend(fontsize=12)\n",
       "plt.grid(True, linestyle='--', alpha=0.7)\n",
       "\n",
       "# Add a horizontal line for the average lap time of each driver\n",
       "for driver, color in zip(['O\\'Ward', 'Rossi', 'Palou'], ['blue', 'red', 'green']):\n",
       "    avg_time = df[df['DriverName'] == driver]['T (Time)'].mean()\n",
       "    plt.axhline(y=avg_time, color=color, linestyle='--', alpha=0.5)\n",
       "\n",
       "plt.tight_layout()\n",
       "plt.show()"
      ]
     },
     {
      "cell_type": "markdown",
      "metadata": {},
      "source": [
       "## Visualization: Lap Time Distribution"
      ]
     },
     {
      "cell_type": "code",
      "execution_count": null,
      "metadata": {},
      "source": [
       "plt.figure(figsize=(14, 6))\n",
       "\n",
       "# Box plot\n",
       "sns.boxplot(x='DriverName', y='T (Time)', data=df, palette=['blue', 'green', 'red'])\n",
       "plt.title('Distribution of Lap Times by Driver', fontsize=16)\n",
       "plt.xlabel('Driver', fontsize=14)\n",
       "plt.ylabel('Lap Time (seconds)', fontsize=14)\n",
       "plt.grid(True, linestyle='--', alpha=0.7)\n",
       "plt.tight_layout()\n",
       "plt.show()\n",
       "\n",
       "# Violin plot for more detailed distribution\n",
       "plt.figure(figsize=(14, 6))\n",
       "sns.violinplot(x='DriverName', y='T (Time)', data=df, palette=['blue', 'green', 'red'], inner='quartile')\n",
       "plt.title('Detailed Distribution of Lap Times', fontsize=16)\n",
       "plt.xlabel('Driver', fontsize=14)\n",
       "plt.ylabel('Lap Time (seconds)', fontsize=14)\n",
       "plt.grid(True, linestyle='--', alpha=0.7)\n",
       "plt.tight_layout()\n",
       "plt.show()"
      ]
     },
     {
      "cell_type": "markdown",
      "metadata": {},
      "source": [
       "## Visualization: Histogram of Lap Times"
      ]
     },
     {
      "cell_type": "code",
      "execution_count": null,
      "metadata": {},
      "source": [
       "plt.figure(figsize=(14, 6))\n",
       "\n",
       "# Histogram with KDE\n",
       "for driver, color in zip(['O\\'Ward', 'Rossi', 'Palou'], ['blue', 'red', 'green']):\n",
       "    driver_data = df[df['DriverName'] == driver]['T (Time)']\n",
       "    sns.histplot(driver_data, kde=True, label=driver, color=color, alpha=0.3, bins=15)\n",
       "\n",
       "plt.title('Histogram of Lap Times', fontsize=16)\n",
       "plt.xlabel('Lap Time (seconds)', fontsize=14)\n",
       "plt.ylabel('Frequency', fontsize=14)\n",
       "plt.legend(fontsize=12)\n",
       "plt.grid(True, linestyle='--', alpha=0.7)\n",
       "plt.tight_layout()\n",
       "plt.show()"
      ]
     },
     {
      "cell_type": "markdown",
      "metadata": {},
      "source": [
       "## Visualization: Lap Time Differences from Personal Best"
      ]
     },
     {
      "cell_type": "code",
      "execution_count": null,
      "metadata": {},
      "source": [
       "# Calculate gap to each driver's personal best\n",
       "driver_best = df.groupby('DriverName')['T (Time)'].min().to_dict()\n",
       "df['Gap to Personal Best'] = df.apply(lambda row: row['T (Time)'] - driver_best[row['DriverName']], axis=1)\n",
       "\n",
       "plt.figure(figsize=(14, 8))\n",
       "\n",
       "for driver, color in zip(['O\\'Ward', 'Rossi', 'Palou'], ['blue', 'red', 'green']):\n",
       "    driver_data = df[df['DriverName'] == driver]\n",
       "    plt.plot(driver_data['Lap'], driver_data['Gap to Personal Best'], 'o-', label=driver, alpha=0.7, linewidth=1, markersize=5)\n",
       "\n",
       "plt.title('Gap to Personal Best Lap Throughout Race', fontsize=16)\n",
       "plt.xlabel('Lap Number', fontsize=14)\n",
       "plt.ylabel('Gap (seconds)', fontsize=14)\n",
       "plt.legend(fontsize=12)\n",
       "plt.grid(True, linestyle='--', alpha=0.7)\n",
       "plt.tight_layout()\n",
       "plt.show()"
      ]
     },
     {
      "cell_type": "markdown",
      "metadata": {},
      "source": [
       "## Visualization: Heat Map of Lap Times"
      ]
     },
     {
      "cell_type": "code",
      "execution_count": null,
      "metadata": {},
      "source": [
       "# Create a pivot table for the heat map\n",
       "# Group laps into sets of 5 for better visualization\n",
       "df['Lap Group'] = (df['Lap'] - 1) // 5 + 1\n",
       "pivot_data = df.pivot_table(values='T (Time)', index='DriverName', columns='Lap Group', aggfunc='mean')\n",
       "\n",
       "# Create the heat map\n",
       "plt.figure(figsize=(16, 6))\n",
       "sns.heatmap(pivot_data, annot=True, fmt=\".2f\", cmap=\"YlGnBu\", linewidths=.5)\n",
       "plt.title('Average Lap Times by 5-Lap Segments', fontsize=16)\n",
       "plt.xlabel('Lap Group (sets of 5 laps)', fontsize=14)\n",
       "plt.ylabel('Driver', fontsize=14)\n",
       "plt.tight_layout()\n",
       "plt.show()"
      ]
     },
     {
      "cell_type": "markdown",
      "metadata": {},
      "source": [
       "## Statistical Comparison"
      ]
     },
     {
      "cell_type": "code",
      "execution_count": null,
      "metadata": {},
      "source": [
       "from scipy import stats\n",
       "\n",
       "# Compare the drivers' lap time distributions\n",
       "print(\"Statistical comparison of lap time distributions:\")\n",
       "print(\"\\nANOVA test (comparing all three drivers):\")\n",
       "groups = [df[df['DriverName'] == driver]['T (Time)'] for driver in ['O\\'Ward', 'Rossi', 'Palou']]\n",
       "f_val, p_val = stats.f_oneway(*groups)\n",
       "print(f\"F-value: {f_val:.4f}, p-value: {p_val:.4f}\")\n",
       "if p_val < 0.05:\n",
       "    print(\"There is a statistically significant difference between at least two drivers' lap times.\")\n",
       "else:\n",
       "    print(\"There is no statistically significant difference between the drivers' lap times.\")\n",
       "\n",
       "# Pairwise t-tests\n",
       "print(\"\\nPairwise t-tests:\")\n",
       "for i, driver1 in enumerate(['O\\'Ward', 'Rossi', 'Palou']):\n",
       "    for driver2 in ['O\\'Ward', 'Rossi', 'Palou'][i+1:]:\n",
       "        t_val, p_val = stats.ttest_ind(\n",
       "            df[df['DriverName'] == driver1]['T (Time)'],\n",
       "            df[df['DriverName'] == driver2]['T (Time)'],\n",
       "            equal_var=False  # Using Welch's t-test which doesn't assume equal variances\n",
       "        )\n",
       "        print(f\"{driver1} vs {driver2}: t-value = {t_val:.4f}, p-value = {p_val:.4f}\")\n",
       "        if p_val < 0.05:\n",
       "            print(f\"  There is a statistically significant difference between {driver1} and {driver2}\")\n",
       "        else:\n",
       "            print(f\"  No statistically significant difference between {driver1} and {driver2}\")"
      ]
     },
     {
      "cell_type": "markdown",
      "metadata": {},
      "source": [
       "## Conclusion\n",
       "\n",
       "Based on the visualizations and statistical analysis above, we can draw the following conclusions about the three drivers' performances:\n",
       "\n",
       "1. **Consistency**: The box plots and violin plots show which driver had the most consistent lap times.\n",
       "2. **Speed**: The average lap times indicate which driver was fastest overall.\n",
       "3. **Patterns**: The line charts reveal patterns in how each driver's pace evolved throughout the race.\n",
       "4. **Strategy**: Significant spikes in lap times might indicate pit stops or caution periods.\n",
       "\n",
       "These insights could be valuable for race strategists, team managers, and the drivers themselves in understanding their performance and identifying areas for improvement."
      ]
     }
    ],
    "metadata": {
     "kernelspec": {
      "display_name": "Python 3",
      "language": "python",
      "name": "python3"
     },
     "language_info": {
      "codemirror_mode": {
       "name": "ipython",
       "version": 3
      },
      "file_extension": ".py",
      "mimetype": "text/x-python",
      "name": "python",
      "nbconvert_exporter": "python",
      "pygments_lexer": "ipython3",
      "version": "3.8.10"
     }
    },
    "nbformat": 4,
    "nbformat_minor": 4
   }